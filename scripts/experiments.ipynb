{
 "cells": [
  {
   "cell_type": "code",
   "execution_count": 36,
   "metadata": {},
   "outputs": [
    {
     "name": "stdout",
     "output_type": "stream",
     "text": [
      "Requirement already satisfied: cdifflib in /opt/homebrew/lib/python3.11/site-packages (1.2.6)\n",
      "\n",
      "\u001b[1m[\u001b[0m\u001b[34;49mnotice\u001b[0m\u001b[1;39;49m]\u001b[0m\u001b[39;49m A new release of pip is available: \u001b[0m\u001b[31;49m23.1.2\u001b[0m\u001b[39;49m -> \u001b[0m\u001b[32;49m23.2\u001b[0m\n",
      "\u001b[1m[\u001b[0m\u001b[34;49mnotice\u001b[0m\u001b[1;39;49m]\u001b[0m\u001b[39;49m To update, run: \u001b[0m\u001b[32;49mpython3.11 -m pip install --upgrade pip\u001b[0m\n"
     ]
    }
   ],
   "source": [
    "!pip install cdifflib\n"
   ]
  },
  {
   "cell_type": "code",
   "execution_count": 66,
   "metadata": {},
   "outputs": [],
   "source": [
    "from cdifflib import CSequenceMatcher\n",
    "import json\n",
    "\n",
    "def get_close_matches_indexes2(phrase, ayat_arr, ayat_info):\n",
    "    result = []\n",
    "    s = CSequenceMatcher()\n",
    "    s.set_seq2(phrase)\n",
    "    corpus =  \" \".join(ayat_arr)\n",
    "    current_ayat = 0\n",
    "    char_count = 0\n",
    "    current_ratio = 0\n",
    "\n",
    "    for x in range(0, len(corpus)-len(phrase), 1):\n",
    "        test_phrase = corpus[x: x+len(phrase)]\n",
    "        s.set_seq1(test_phrase)\n",
    "        \n",
    "        temp_ratio = s.ratio()\n",
    "        if current_ratio < temp_ratio:\n",
    "            result.append((temp_ratio, x))\n",
    "            current_ratio = temp_ratio\n",
    "\n",
    "    score, x1 = result[-1]\n",
    "    \n",
    "\n",
    "    while char_count < start_x1:\n",
    "        char_count += len(ayat_arr[current_ayat])\n",
    "        current_ayat += 1\n",
    "    \n",
    "    idx = current_ayat\n",
    "    end_idx = idx\n",
    "    target_char_count = char_count + len(phrase)\n",
    "    char_x = char_count\n",
    "\n",
    "    while char_x < target_char_count:\n",
    "        char_x += len(ayat_arr[end_idx])\n",
    "        end_idx += 1\n",
    "        \n",
    "\n",
    "    return score, ayat_info[idx], ayat_info[end_idx]\n",
    "\n",
    "\n",
    "\n",
    "def get_close_matches_indexes2(phrase, ayat_arr, ayat_info):\n",
    "    result = []\n",
    "    s = CSequenceMatcher()\n",
    "    s.set_seq2(phrase)\n",
    "    corpus =  \" \".join(ayat_arr)\n",
    "    current_ayat = 0\n",
    "    char_count = 0\n",
    "    current_ratio = 0\n",
    "\n",
    "    for x in range(0, len(corpus)-len(phrase), len(phrase)):\n",
    "        test_phrase = corpus[x: x+len(phrase)]\n",
    "        s.set_seq1(test_phrase)\n",
    "        \n",
    "        temp_ratio = s.ratio()\n",
    "        if current_ratio < temp_ratio:\n",
    "            result.append((temp_ratio, x))\n",
    "            current_ratio = temp_ratio\n",
    "\n",
    "    score, x1 = result[-1]\n",
    "    \n",
    "    start_x1 = x1 - len(phrase)\n",
    "    end_x1 = x1 + len(phrase)\n",
    "    \n",
    "    if start_x1 <= 0:\n",
    "        start_x1 = 0\n",
    "\n",
    "    if end_x1 >= len(corpus)-len(phrase):\n",
    "        end_x1 = len(corpus)-len(phrase)\n",
    "\n",
    "    current_ayat = 0\n",
    "    char_count = 0\n",
    "\n",
    "    while char_count < start_x1:\n",
    "        char_count += len(ayat_arr[current_ayat])\n",
    "        current_ayat += 1\n",
    "\n",
    "    for x in range(x1 - len(phrase), len(corpus)-len(phrase), 1):\n",
    "        test_phrase = corpus[x: x+len(phrase)]\n",
    "        s.set_seq1(test_phrase)\n",
    "        \n",
    "        temp_ratio = s.ratio()\n",
    "        if current_ratio < temp_ratio:\n",
    "            result.append((temp_ratio, current_ayat, x))\n",
    "            current_ratio = temp_ratio\n",
    "\n",
    "    score, idx, x1 = result[-1]\n",
    "\n",
    "    end_idx = idx\n",
    "    target_char_count = char_count + len(phrase)\n",
    "    char_x = char_count\n",
    "\n",
    "    while char_x < target_char_count:\n",
    "        char_x += len(ayat_arr[end_idx])\n",
    "        end_idx += 1\n",
    "        \n",
    "\n",
    "    return score, ayat_info[idx], ayat_info[end_idx]\n",
    "\n",
    "def get_compiled_quran(quran_fn):\n",
    "    quranjson = json.load(open(quran_fn, \"r\", encoding=\"utf-8\"))\n",
    "    ayat_arr = []\n",
    "    ayat_info = []\n",
    "    for surah in quranjson:\n",
    "        surah_name = surah[\"transliteration\"]\n",
    "        for ayat in surah[\"verses\"]:\n",
    "            ayat_info.append({\n",
    "                \"surah_name\": surah_name,\n",
    "                \"ayat_number\": ayat[\"id\"],\n",
    "            })\n",
    "            ayat_arr.append(ayat[\"text\"])\n",
    "    return ayat_arr, ayat_info\n",
    "\n",
    "\n",
    "    "
   ]
  },
  {
   "cell_type": "code",
   "execution_count": 45,
   "metadata": {},
   "outputs": [],
   "source": [
    "ayat_arr, ayat_info = get_compiled_quran(\"../assets/quran.json\")"
   ]
  },
  {
   "cell_type": "code",
   "execution_count": 7,
   "metadata": {},
   "outputs": [
    {
     "data": {
      "text/plain": [
       "700236"
      ]
     },
     "execution_count": 7,
     "metadata": {},
     "output_type": "execute_result"
    }
   ],
   "source": [
    "\n",
    "\n",
    "sum([len(x) for x in ayat_arr])"
   ]
  },
  {
   "cell_type": "code",
   "execution_count": 11,
   "metadata": {},
   "outputs": [
    {
     "name": "stdout",
     "output_type": "stream",
     "text": [
      "Model loaded\n"
     ]
    },
    {
     "data": {
      "text/plain": [
       "WhisperForConditionalGeneration(\n",
       "  (model): WhisperModel(\n",
       "    (encoder): WhisperEncoder(\n",
       "      (conv1): Conv1d(80, 512, kernel_size=(3,), stride=(1,), padding=(1,))\n",
       "      (conv2): Conv1d(512, 512, kernel_size=(3,), stride=(2,), padding=(1,))\n",
       "      (embed_positions): Embedding(1500, 512)\n",
       "      (layers): ModuleList(\n",
       "        (0-5): 6 x WhisperEncoderLayer(\n",
       "          (self_attn): WhisperAttention(\n",
       "            (k_proj): Linear(in_features=512, out_features=512, bias=False)\n",
       "            (v_proj): Linear(in_features=512, out_features=512, bias=True)\n",
       "            (q_proj): Linear(in_features=512, out_features=512, bias=True)\n",
       "            (out_proj): Linear(in_features=512, out_features=512, bias=True)\n",
       "          )\n",
       "          (self_attn_layer_norm): LayerNorm((512,), eps=1e-05, elementwise_affine=True)\n",
       "          (activation_fn): GELUActivation()\n",
       "          (fc1): Linear(in_features=512, out_features=2048, bias=True)\n",
       "          (fc2): Linear(in_features=2048, out_features=512, bias=True)\n",
       "          (final_layer_norm): LayerNorm((512,), eps=1e-05, elementwise_affine=True)\n",
       "        )\n",
       "      )\n",
       "      (layer_norm): LayerNorm((512,), eps=1e-05, elementwise_affine=True)\n",
       "    )\n",
       "    (decoder): WhisperDecoder(\n",
       "      (embed_tokens): Embedding(51865, 512, padding_idx=50257)\n",
       "      (embed_positions): WhisperPositionalEmbedding(448, 512)\n",
       "      (layers): ModuleList(\n",
       "        (0-5): 6 x WhisperDecoderLayer(\n",
       "          (self_attn): WhisperAttention(\n",
       "            (k_proj): Linear(in_features=512, out_features=512, bias=False)\n",
       "            (v_proj): Linear(in_features=512, out_features=512, bias=True)\n",
       "            (q_proj): Linear(in_features=512, out_features=512, bias=True)\n",
       "            (out_proj): Linear(in_features=512, out_features=512, bias=True)\n",
       "          )\n",
       "          (activation_fn): GELUActivation()\n",
       "          (self_attn_layer_norm): LayerNorm((512,), eps=1e-05, elementwise_affine=True)\n",
       "          (encoder_attn): WhisperAttention(\n",
       "            (k_proj): Linear(in_features=512, out_features=512, bias=False)\n",
       "            (v_proj): Linear(in_features=512, out_features=512, bias=True)\n",
       "            (q_proj): Linear(in_features=512, out_features=512, bias=True)\n",
       "            (out_proj): Linear(in_features=512, out_features=512, bias=True)\n",
       "          )\n",
       "          (encoder_attn_layer_norm): LayerNorm((512,), eps=1e-05, elementwise_affine=True)\n",
       "          (fc1): Linear(in_features=512, out_features=2048, bias=True)\n",
       "          (fc2): Linear(in_features=2048, out_features=512, bias=True)\n",
       "          (final_layer_norm): LayerNorm((512,), eps=1e-05, elementwise_affine=True)\n",
       "        )\n",
       "      )\n",
       "      (layer_norm): LayerNorm((512,), eps=1e-05, elementwise_affine=True)\n",
       "    )\n",
       "  )\n",
       "  (proj_out): Linear(in_features=512, out_features=51865, bias=False)\n",
       ")"
      ]
     },
     "execution_count": 11,
     "metadata": {},
     "output_type": "execute_result"
    }
   ],
   "source": [
    "import torch\n",
    "device = \"cuda\" if torch.cuda.is_available() else \"cpu\"\n",
    "\n",
    "from transformers import WhisperForConditionalGeneration, WhisperProcessor\n",
    "stt_model = WhisperForConditionalGeneration.from_pretrained(\"../whisper-base-ar-quran\").to(device)\n",
    "processor = WhisperProcessor.from_pretrained(\"../whisper-base-ar-quran\")\n",
    "\n",
    "print(\"Model loaded\")\n",
    "# Set the model to evaluation mode\n",
    "stt_model.eval()\n"
   ]
  },
  {
   "cell_type": "code",
   "execution_count": 28,
   "metadata": {},
   "outputs": [
    {
     "name": "stderr",
     "output_type": "stream",
     "text": [
      "/var/folders/j_/dc9smlnj1sndvt5x192t9s080000gn/T/ipykernel_54508/1209537577.py:10: UserWarning: PySoundFile failed. Trying audioread instead.\n",
      "  audio_data, sr = librosa.load(audio_file)\n",
      "/opt/homebrew/lib/python3.11/site-packages/librosa/core/audio.py:184: FutureWarning: librosa.core.audio.__audioread_load\n",
      "\tDeprecated as of librosa version 0.10.0.\n",
      "\tIt will be removed in librosa version 1.0.\n",
      "  y, sr_native = __audioread_load(path, offset, duration, dtype)\n"
     ]
    }
   ],
   "source": [
    "import librosa\n",
    "import soundfile as sf\n",
    "import json\n",
    "import re \n",
    "import numpy as np\n",
    "\n",
    "\n",
    "audio_file = \"../Muddathir - Imran.m4a\"\n",
    "\n",
    "audio_data, sr = librosa.load(audio_file)\n",
    "audio_data = librosa.resample(audio_data, orig_sr = sr, target_sr=16000)\n",
    "\n",
    "inputs = processor.feature_extractor(audio_data, return_tensors=\"pt\", sampling_rate=16_000).input_features.to(device)\n",
    "predicted_ids = stt_model.generate(inputs, max_length=480_000)\n",
    "decoded_ids = processor.tokenizer.batch_decode(predicted_ids)\n"
   ]
  },
  {
   "cell_type": "code",
   "execution_count": 58,
   "metadata": {},
   "outputs": [
    {
     "name": "stdout",
     "output_type": "stream",
     "text": [
      "['<|startoftranscript|><|ar|><|transcribe|><|notimestamps|>أَوْلُوا بِاللَّهِ الْحِكَرَةِ إِلَى رَهْمَ الْرَحِيمِ يَا أَيُّهَا مُدَّفِّرٌ كُمْ فَأَنْذِرْ وَيَقْتَفَ كَبِّرْ فَثْيَابَكَ فَتَفْكِرْ فَيُجْزَ فَاحْجِرْ وَلَا تَمْنُنْ تَسْتَفْسِرْ وَلِرَبِّكَ فَاصْبِرْ فَإِذَا نُقِرَ فِي النَّاقُورِ فَذَلِكَ يَوْمَئِذٍ يَوْمَ نَصِيرٍ عَلَى الْكَافِرِينَ<|endoftext|>']\n",
      "\n",
      "أَوْلُوا بِاللَّهِ الْحِكَرَةِ إِلَى رَهْمَ الْرَحِيمِ يَا أَيُّهَا مُدَّفِّرٌ كُمْ فَأَنْذِرْ وَيَقْتَفَ كَبِّرْ فَثْيَابَكَ فَتَفْكِرْ فَيُجْزَ فَاحْجِرْ وَلَا تَمْنُنْ تَسْتَفْسِرْ وَلِرَبِّكَ فَاصْبِرْ فَإِذَا نُقِرَ فِي النَّاقُورِ فَذَلِكَ يَوْمَئِذٍ يَوْمَ نَصِيرٍ عَلَى الْكَافِرِينَ\n"
     ]
    }
   ],
   "source": [
    "print(decoded_ids)\n",
    "tarteel_string = re.sub(r'<[^>]*>', '', decoded_ids[0])\n",
    "print()\n",
    "print(tarteel_string)"
   ]
  },
  {
   "cell_type": "code",
   "execution_count": 57,
   "metadata": {},
   "outputs": [
    {
     "data": {
      "text/plain": [
       "291"
      ]
     },
     "execution_count": 57,
     "metadata": {},
     "output_type": "execute_result"
    }
   ],
   "source": [
    "len(tarteel_string)"
   ]
  },
  {
   "cell_type": "code",
   "execution_count": 59,
   "metadata": {},
   "outputs": [],
   "source": [
    "quran_all =  \" \".join(ayat_arr)\n",
    "quran_len = len(quran_all)\n",
    "tarteel_string_len = len(tarteel_string)\n",
    "\n",
    "test_strings = []\n",
    "\n",
    "for x in range(len(quran_all)-len(tarteel_string)):\n",
    "    test_strings.append(quran_all[x: x+len(tarteel_string)])\n"
   ]
  },
  {
   "cell_type": "code",
   "execution_count": 60,
   "metadata": {},
   "outputs": [
    {
     "data": {
      "text/plain": [
       "706180"
      ]
     },
     "execution_count": 60,
     "metadata": {},
     "output_type": "execute_result"
    }
   ],
   "source": [
    "len(test_strings)"
   ]
  },
  {
   "cell_type": "code",
   "execution_count": 67,
   "metadata": {},
   "outputs": [],
   "source": [
    "result = get_close_matches_indexes(tarteel_string, ayat_arr, ayat_info)\n"
   ]
  },
  {
   "cell_type": "code",
   "execution_count": 65,
   "metadata": {},
   "outputs": [
    {
     "name": "stdout",
     "output_type": "stream",
     "text": [
      "(0.21993127147766323, {'surah_name': 'Al-Baqarah', 'ayat_number': 182}, {'surah_name': 'Al-Baqarah', 'ayat_number': 185})\n"
     ]
    }
   ],
   "source": [
    "print(result)"
   ]
  },
  {
   "cell_type": "code",
   "execution_count": 35,
   "metadata": {},
   "outputs": [
    {
     "data": {
      "text/plain": [
       "'أَنذِرۡ وَرَبَّكَ فَكَبِّرۡ وَثِيَابَكَ فَطَهِّرۡ وَٱلرُّجۡزَ فَٱهۡجُرۡ وَلَا تَمۡنُن تَسۡتَكۡثِرُ وَلِرَبِّكَ فَٱصۡبِرۡ فَإِذَا نُقِرَ فِي ٱلنَّاقُورِ فَذَٰلِكَ يَوۡمَئِذٖ يَوۡمٌ عَسِيرٌ عَلَى ٱلۡكَٰفِرِينَ غَيۡرُ يَسِيرٖ ذَرۡنِي وَمَنۡ خَلَقۡتُ وَحِيدٗا وَجَعَلۡتُ لَهُۥ مَالٗا مَّمۡدُودٗا'"
      ]
     },
     "execution_count": 35,
     "metadata": {},
     "output_type": "execute_result"
    }
   ],
   "source": [
    "test_strings[677763]"
   ]
  },
  {
   "cell_type": "code",
   "execution_count": 17,
   "metadata": {},
   "outputs": [
    {
     "data": {
      "image/png": "[encoded data removed]",
      "text/plain": [
       "<PIL.JpegImagePlugin.JpegImageFile image mode=RGB size=800x600>"
      ]
     },
     "metadata": {},
     "output_type": "display_data"
    }
   ],
   "source": [
    "import re\n",
    "\n",
    "from PIL import Image\n",
    "from PIL import ImageDraw\n",
    "from PIL import ImageFont\n",
    "blank_image = Image.new('RGB', (800, 600), (255,255,255))\n",
    "drawing_on_img = ImageDraw.Draw(blank_image)\n",
    "font = ImageFont.truetype('../assets/Al Majeed Quranic Font_shiped.ttf',size=35)\n",
    "text_color = (201,50,250)\n",
    "text_coordinates = (0,0)\n",
    "drawing_on_img.text(text_coordinates,tarteel_string,font=font,fill='black')\n",
    "blank_image.save(\"text_on_test_imager.jpg\")\n",
    "display(Image.open(\"text_on_test_imager.jpg\"))# /content/\n",
    "\n"
   ]
  }
 ],
 "metadata": {
  "kernelspec": {
   "display_name": "Python 3",
   "language": "python",
   "name": "python3"
  },
  "language_info": {
   "codemirror_mode": {
    "name": "ipython",
    "version": 3
   },
   "file_extension": ".py",
   "mimetype": "text/x-python",
   "name": "python",
   "nbconvert_exporter": "python",
   "pygments_lexer": "ipython3",
   "version": "3.11.4"
  },
  "orig_nbformat": 4
 },
 "nbformat": 4,
 "nbformat_minor": 2
}
